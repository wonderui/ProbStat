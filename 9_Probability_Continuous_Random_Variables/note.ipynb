{
 "cells": [
  {
   "attachments": {},
   "cell_type": "markdown",
   "metadata": {},
   "source": [
    "### Overview\n",
    "\n",
    "![curve](probability_random_variables_image108.gif)\n",
    "\n",
    "![density](continuous_random_variables_calculus.png)\n",
    "\n",
    "* * *\n",
    "\n",
    "### Normal Random Variables\n",
    "\n",
    "Normal distributions - 正态分布\n",
    "\n",
    "![normal distributions](normal_distributions.png)\n",
    "\n",
    "* **Black & Red** - same mean\n",
    "* **Black & Green** - same Std\n",
    "\n",
    "* * *\n",
    "\n",
    "### Standard Deviation Rule\n",
    "\n",
    "![Normal distribution rule](probability_random_variables_image121.gif)\n",
    "\n",
    "* * *\n",
    "\n",
    "### z-socre\n",
    "\n",
    "![score](z_score.png)\n",
    "\n",
    "**check [Normal Distribution Table](https://lagunita.stanford.edu/asset-v1:OLI+ProbStat+Open_Jan2017+type@asset+block/probability_normal_table.html)**"
   ]
  },
  {
   "cell_type": "code",
   "execution_count": null,
   "metadata": {
    "collapsed": true
   },
   "outputs": [],
   "source": []
  },
  {
   "cell_type": "code",
   "execution_count": null,
   "metadata": {
    "collapsed": true
   },
   "outputs": [],
   "source": []
  }
 ],
 "metadata": {
  "kernelspec": {
   "display_name": "Python 3",
   "language": "python",
   "name": "python3"
  },
  "language_info": {
   "codemirror_mode": {
    "name": "ipython",
    "version": 3
   },
   "file_extension": ".py",
   "mimetype": "text/x-python",
   "name": "python",
   "nbconvert_exporter": "python",
   "pygments_lexer": "ipython3",
   "version": "3.6.1"
  }
 },
 "nbformat": 4,
 "nbformat_minor": 2
}
