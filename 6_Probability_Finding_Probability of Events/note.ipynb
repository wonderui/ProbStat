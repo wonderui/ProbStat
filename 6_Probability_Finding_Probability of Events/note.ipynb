{
 "cells": [
  {
   "cell_type": "markdown",
   "metadata": {},
   "source": [
    "### Sample Spaces\n",
    "A situation that involves uncertainty is called a **random experiment**, an experiment that produces an outcome that cannot be predicted in advance (hence the uncertainty).  \n",
    "\n",
    "The list of possible outcomes is called the **sample space** of the random experiment, and is denoted by the (capital) letter **S**.  \n",
    "> Toss a coin twice: S = {HH, HT, TH, TT}  \n",
    "\n",
    "**Order** does not always matter.\n",
    "\n",
    "* * *"
   ]
  },
  {
   "cell_type": "markdown",
   "metadata": {},
   "source": [
    "### Events of Interest\n",
    "![Event](probability_finding_probability_image003.gif 'Event')  \n",
    "\n",
    "Once an event is defined, we can talk about the probability that it will occur. So, if we have defined an Event A, we can use the notation we previously mentioned to represent its probability, namely **P(A)**.\n",
    "![Process](probability_finding_probability_image004.gif 'Process')\n",
    "\n",
    "* * *"
   ]
  },
  {
   "cell_type": "markdown",
   "metadata": {},
   "source": [
    "### Equally Likely Outcomes\n",
    "In the special situation where all the outcomes in S are equally likely, we can find the probability of any event A by dividing the number of outcomes in A by the number of outcomes in S:  \n",
    "**P(A) = number of outcomes in A / number of outcomes in S**  \n",
    "  \n",
    "The sum of the probabilities of all outcomes must be 1.\n",
    "\n",
    "* * *"
   ]
  },
  {
   "cell_type": "markdown",
   "metadata": {},
   "source": [
    "### Get Sample Space with itertools module"
   ]
  },
  {
   "cell_type": "code",
   "execution_count": 2,
   "metadata": {},
   "outputs": [
    {
     "data": {
      "text/plain": [
       "[('M1', 'M2'),\n",
       " ('M1', 'F1'),\n",
       " ('M1', 'F2'),\n",
       " ('M1', 'F3'),\n",
       " ('M2', 'F1'),\n",
       " ('M2', 'F2'),\n",
       " ('M2', 'F3'),\n",
       " ('F1', 'F2'),\n",
       " ('F1', 'F3'),\n",
       " ('F2', 'F3')]"
      ]
     },
     "execution_count": 2,
     "metadata": {},
     "output_type": "execute_result"
    }
   ],
   "source": [
    "# choose 2 persons from 5\n",
    "import itertools\n",
    "list(itertools.combinations(['M1', 'M2', 'F1', 'F2', 'F3'], 2))"
   ]
  },
  {
   "cell_type": "code",
   "execution_count": 6,
   "metadata": {},
   "outputs": [
    {
     "data": {
      "text/plain": [
       "[('M1', 'M2'),\n",
       " ('M1', 'F1'),\n",
       " ('M1', 'F2'),\n",
       " ('M2', 'M1'),\n",
       " ('M2', 'F1'),\n",
       " ('M2', 'F2'),\n",
       " ('F1', 'M1'),\n",
       " ('F1', 'M2'),\n",
       " ('F1', 'F2'),\n",
       " ('F2', 'M1'),\n",
       " ('F2', 'M2'),\n",
       " ('F2', 'F1')]"
      ]
     },
     "execution_count": 6,
     "metadata": {},
     "output_type": "execute_result"
    }
   ],
   "source": [
    "# choose 2 persons from 4 with order\n",
    "list(itertools.permutations(['M1', 'M2', 'F1', 'F2'], 2))"
   ]
  },
  {
   "cell_type": "markdown",
   "metadata": {
    "collapsed": true
   },
   "source": [
    "### Probability Rules\n",
    "\n",
    "**Rule 1  \n",
    "For any event A, 0 <= P(A) <= 1**\n",
    "\n",
    "**Rule 2  \n",
    "P(S) = 1, the sum of the probabilities of all possible outcomes is 1.**\n",
    "\n",
    "**Rule 3 The Complement Rule  \n",
    "P(NOT A) = 1 - P(A), the probability that an event does not occur is 1 minus the probability that it does occur.**\n",
    "\n",
    "P(A or B) = P(event A occurs or event B occurs or both occur)\n",
    "![disjoint](probability_finding_probability_image015.gif)\n",
    "![not disjoint](probability_finding_probability_image016.gif)  \n",
    "\n",
    "**Rule 4: The Addition Rule for Disjoint Event  \n",
    "The Addition Rule for Disjoint Events: If A and B are disjoint events, then P(A or B) = P(A) + P(B).**  \n",
    "\n",
    "**independent**  \n",
    "(definition) Two events A and B are said to be independent if the fact that one event has occurred does not affect the probability that the other event will occur. If whether or not one event occurs does affect the probability that the other event will occur, then the two events are said to be **dependent**.  \n",
    "\n",
    "**independent and disjoint**  \n",
    "if A and B are disjoint, A and B must be dependent.  \n",
    "if A and B are NOT disjoint, A and B are dependent in small population, independent in large population.  \n",
    "\n",
    "**Rule 5: The Multiplication Rule for Independent Events  \n",
    "If A and B are two independent events, then P(A and B) = P(A) * P(B).**  \n",
    "\n",
    "**Rule 6: The General Addition Rule  \n",
    "For any 2 events A and B, P(A or B) = P(A) + P(B) - P(A and B).**\n",
    "\n",
    "* * *"
   ]
  },
  {
   "cell_type": "markdown",
   "metadata": {
    "collapsed": true
   },
   "source": [
    "### Probability Tables\n",
    "![probability tables](probability_finding_probability_prob_table_explained.png)"
   ]
  },
  {
   "cell_type": "code",
   "execution_count": null,
   "metadata": {
    "collapsed": true
   },
   "outputs": [],
   "source": []
  }
 ],
 "metadata": {
  "kernelspec": {
   "display_name": "Python 3",
   "language": "python",
   "name": "python3"
  },
  "language_info": {
   "codemirror_mode": {
    "name": "ipython",
    "version": 3
   },
   "file_extension": ".py",
   "mimetype": "text/x-python",
   "name": "python",
   "nbconvert_exporter": "python",
   "pygments_lexer": "ipython3",
   "version": "3.6.1"
  }
 },
 "nbformat": 4,
 "nbformat_minor": 2
}
