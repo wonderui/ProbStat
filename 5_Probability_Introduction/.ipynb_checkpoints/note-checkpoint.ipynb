{
 "cells": [
  {
   "cell_type": "markdown",
   "metadata": {},
   "source": [
    "### Probability Defined\n",
    "Probability is the Likelihood of Something Happening.  \n",
    "\n",
    "**Notation**  \n",
    "\"probability\" = P  \n",
    "event(\"it will rain tomorrow\") = A  \n",
    "\"the probability it will rain tomorrow\" = P(A)  \n",
    "\n",
    "**The \"probability\" of an event tells us how likely it is that the event will occur.**  \n",
    "0 <= P(A) <= 1\n",
    "\n",
    "* * *"
   ]
  },
  {
   "cell_type": "markdown",
   "metadata": {},
   "source": [
    "### Theoretical Methods to Determine Probabilities\n",
    "There are two fundamental ways in which we can determine probability:\n",
    "* Theoretical (also known as Classical): calculate probabilities\n",
    "* Empirical (also known as Observational): take an experiment and observe probabilities\n",
    "\n",
    "* * *"
   ]
  },
  {
   "cell_type": "markdown",
   "metadata": {},
   "source": [
    "### Coins Flip Experiment"
   ]
  },
  {
   "cell_type": "code",
   "execution_count": 10,
   "metadata": {},
   "outputs": [
    {
     "data": {
      "text/plain": [
       "(0.5031, 0.4969)"
      ]
     },
     "execution_count": 10,
     "metadata": {},
     "output_type": "execute_result"
    }
   ],
   "source": [
    "# fair coin\n",
    "import random\n",
    "coin = ['head', 'back']\n",
    "head_count = 0\n",
    "back_count = 0\n",
    "for i in range(10000):\n",
    "    if random.choice(coin) == 'head':\n",
    "        head_count += 1 \n",
    "    else:\n",
    "        back_count += 1\n",
    "head_count / 10000, back_count / 10000"
   ]
  },
  {
   "cell_type": "code",
   "execution_count": 11,
   "metadata": {},
   "outputs": [
    {
     "data": {
      "text/plain": [
       "(0.2021, 0.7979)"
      ]
     },
     "execution_count": 11,
     "metadata": {},
     "output_type": "execute_result"
    }
   ],
   "source": [
    "# unfair coin\n",
    "import random\n",
    "coin = [0, 1, 2, 3, 4, 5, 6, 7, 8, 9]\n",
    "head_count = 0\n",
    "back_count = 0\n",
    "for i in range(10000):\n",
    "    if random.choice(coin) in range(2):\n",
    "        head_count += 1 \n",
    "    else:\n",
    "        back_count += 1\n",
    "head_count / 10000, back_count / 10000"
   ]
  },
  {
   "cell_type": "markdown",
   "metadata": {},
   "source": [
    "### how likely 2 people have a same birthday in a room"
   ]
  },
  {
   "cell_type": "code",
   "execution_count": 26,
   "metadata": {},
   "outputs": [
    {
     "data": {
      "text/plain": [
       "0.712"
      ]
     },
     "execution_count": 26,
     "metadata": {},
     "output_type": "execute_result"
    }
   ],
   "source": [
    "import random\n",
    "count = 0\n",
    "for i in range(10000):\n",
    "    birthdays = random.choices(range(365), k = 30)\n",
    "    if len(birthdays) != len(set(birthdays)):\n",
    "        count += 1 \n",
    "count / 10000"
   ]
  },
  {
   "cell_type": "markdown",
   "metadata": {},
   "source": [
    "* * *"
   ]
  },
  {
   "cell_type": "markdown",
   "metadata": {},
   "source": [
    "### Law of Large Numbers\n",
    "The actual (or true) probability of an event (A) is estimated by the relative frequency with which the event occurs in a long series of trials."
   ]
  },
  {
   "cell_type": "code",
   "execution_count": null,
   "metadata": {
    "collapsed": true
   },
   "outputs": [],
   "source": []
  }
 ],
 "metadata": {
  "kernelspec": {
   "display_name": "Python 3",
   "language": "python",
   "name": "python3"
  },
  "language_info": {
   "codemirror_mode": {
    "name": "ipython",
    "version": 3
   },
   "file_extension": ".py",
   "mimetype": "text/x-python",
   "name": "python",
   "nbconvert_exporter": "python",
   "pygments_lexer": "ipython3",
   "version": "3.6.1"
  }
 },
 "nbformat": 4,
 "nbformat_minor": 2
}
