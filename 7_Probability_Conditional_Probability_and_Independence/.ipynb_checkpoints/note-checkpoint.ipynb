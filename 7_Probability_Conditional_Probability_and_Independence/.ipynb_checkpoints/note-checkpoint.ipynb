{
 "cells": [
  {
   "cell_type": "markdown",
   "metadata": {
    "collapsed": true
   },
   "source": [
    "### Conditional Probability: Reasoning\n",
    "Given condition A, the probability of event B  \n",
    "the conditional probability is **P(B | A)**\n",
    "\n",
    "The conditional probability of event B, given event A, is **P(B | A) = P(A and B) / P(A)**  \n",
    "\n",
    "**check if two events are independent**  \n",
    "Compare P(B | A) and P(B):  \n",
    "If the two are equal (i.e., knowing or not knowing whether A has occurred has no effect on the probability of B occurring) then the two events are independent.  \n",
    "Otherwise, if the probability changes depending on whether we know that A has occurred or not, then the two events are not independent.   \n",
    "\n",
    "* * *\n",
    "\n",
    "**Two events A and B are independent if any one of the following hold:**\n",
    "\n",
    "P(B | A) = P(B)\n",
    "\n",
    "P(A | B) = P(A)\n",
    "\n",
    "P(B | A) = P(B | not A)\n",
    "\n",
    "P(A and B) = P(A) * P(B)\n",
    "\n",
    "* * *\n",
    "\n",
    "### Probability Trees\n",
    "![probability trees](probability_conditional_probability_image009.gif)\n",
    "\n",
    "* * *\n",
    "\n",
    "### Multiplication Rule\n",
    "\n",
    "The General Multiplication Rule: For any two events A and B, **P(A and B) = P(A) * P(B | A)**\n",
    "\n",
    "* * *\n",
    "\n",
    "### Bayes' Rule\n",
    "![Bayes' Rule](Bayes_Rule.png)"
   ]
  },
  {
   "cell_type": "code",
   "execution_count": null,
   "metadata": {
    "collapsed": true
   },
   "outputs": [],
   "source": []
  }
 ],
 "metadata": {
  "kernelspec": {
   "display_name": "Python 3",
   "language": "python",
   "name": "python3"
  },
  "language_info": {
   "codemirror_mode": {
    "name": "ipython",
    "version": 3
   },
   "file_extension": ".py",
   "mimetype": "text/x-python",
   "name": "python",
   "nbconvert_exporter": "python",
   "pygments_lexer": "ipython3",
   "version": "3.6.1"
  }
 },
 "nbformat": 4,
 "nbformat_minor": 2
}
