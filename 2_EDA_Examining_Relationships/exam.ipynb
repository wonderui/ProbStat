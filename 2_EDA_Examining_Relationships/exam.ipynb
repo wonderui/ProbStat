{
 "cells": [
  {
   "cell_type": "code",
   "execution_count": 172,
   "metadata": {},
   "outputs": [
    {
     "data": {
      "text/html": [
       "<div>\n",
       "<style>\n",
       "    .dataframe thead tr:only-child th {\n",
       "        text-align: right;\n",
       "    }\n",
       "\n",
       "    .dataframe thead th {\n",
       "        text-align: left;\n",
       "    }\n",
       "\n",
       "    .dataframe tbody tr th {\n",
       "        vertical-align: top;\n",
       "    }\n",
       "</style>\n",
       "<table border=\"1\" class=\"dataframe\">\n",
       "  <thead>\n",
       "    <tr style=\"text-align: right;\">\n",
       "      <th></th>\n",
       "      <th>Gender</th>\n",
       "      <th>Height</th>\n",
       "      <th>GPA</th>\n",
       "      <th>HS GPA</th>\n",
       "      <th>Seat</th>\n",
       "      <th>WtFeel</th>\n",
       "      <th>Cheat</th>\n",
       "    </tr>\n",
       "  </thead>\n",
       "  <tbody>\n",
       "    <tr>\n",
       "      <th>0</th>\n",
       "      <td>Female</td>\n",
       "      <td>64.0</td>\n",
       "      <td>2.6</td>\n",
       "      <td>2.63</td>\n",
       "      <td>M</td>\n",
       "      <td>AboutRt</td>\n",
       "      <td>No</td>\n",
       "    </tr>\n",
       "    <tr>\n",
       "      <th>1</th>\n",
       "      <td>Male</td>\n",
       "      <td>69.0</td>\n",
       "      <td>2.7</td>\n",
       "      <td>3.72</td>\n",
       "      <td>M</td>\n",
       "      <td>AboutRt</td>\n",
       "      <td>No</td>\n",
       "    </tr>\n",
       "    <tr>\n",
       "      <th>2</th>\n",
       "      <td>Female</td>\n",
       "      <td>66.0</td>\n",
       "      <td>3</td>\n",
       "      <td>3.44</td>\n",
       "      <td>F</td>\n",
       "      <td>AboutRt</td>\n",
       "      <td>No</td>\n",
       "    </tr>\n",
       "    <tr>\n",
       "      <th>3</th>\n",
       "      <td>Female</td>\n",
       "      <td>63.0</td>\n",
       "      <td>3.11</td>\n",
       "      <td>2.73</td>\n",
       "      <td>F</td>\n",
       "      <td>AboutRt</td>\n",
       "      <td>No</td>\n",
       "    </tr>\n",
       "    <tr>\n",
       "      <th>4</th>\n",
       "      <td>Male</td>\n",
       "      <td>72.0</td>\n",
       "      <td>3.4</td>\n",
       "      <td>2.35</td>\n",
       "      <td>B</td>\n",
       "      <td>OverWt</td>\n",
       "      <td>No</td>\n",
       "    </tr>\n",
       "  </tbody>\n",
       "</table>\n",
       "</div>"
      ],
      "text/plain": [
       "   Gender  Height   GPA HS GPA Seat   WtFeel Cheat\n",
       "0  Female    64.0   2.6   2.63    M  AboutRt    No\n",
       "1    Male    69.0   2.7   3.72    M  AboutRt    No\n",
       "2  Female    66.0     3   3.44    F  AboutRt    No\n",
       "3  Female    63.0  3.11   2.73    F  AboutRt    No\n",
       "4    Male    72.0   3.4   2.35    B   OverWt    No"
      ]
     },
     "execution_count": 172,
     "metadata": {},
     "output_type": "execute_result"
    }
   ],
   "source": [
    "import pandas as pd\n",
    "import scipy.stats as stats\n",
    "import numpy as np\n",
    "%matplotlib inline\n",
    "\n",
    "data = pd.read_excel('body_image.xls')\n",
    "\n",
    "data.head()"
   ]
  },
  {
   "cell_type": "code",
   "execution_count": 173,
   "metadata": {},
   "outputs": [
    {
     "data": {
      "text/plain": [
       "<matplotlib.axes._subplots.AxesSubplot at 0x10ac447f0>"
      ]
     },
     "execution_count": 173,
     "metadata": {},
     "output_type": "execute_result"
    },
    {
     "data": {
      "image/png": "[encoded data removed]",
      "text/plain": [
       "<matplotlib.figure.Figure at 0x10ac44160>"
      ]
     },
     "metadata": {},
     "output_type": "display_data"
    }
   ],
   "source": [
    "gpa_relationship = data[['GPA', 'HS GPA']][data['GPA'] != '*'].astype(float)\n",
    "gpa_relationship.plot(kind = 'scatter', x = 'GPA', y = 'HS GPA', title = 'GPA & HS_GPA')"
   ]
  },
  {
   "cell_type": "code",
   "execution_count": 174,
   "metadata": {},
   "outputs": [
    {
     "data": {
      "text/plain": [
       "LinregressResult(slope=0.82684724798357423, intercept=0.72583893048506187, rvalue=0.71554736342228153, pvalue=4.5561961707265307e-37, stderr=0.053695639370292716)"
      ]
     },
     "execution_count": 174,
     "metadata": {},
     "output_type": "execute_result"
    }
   ],
   "source": [
    "stats.linregress(x = gpa_relationship['GPA'], y = gpa_relationship['HS GPA'])"
   ]
  },
  {
   "cell_type": "code",
   "execution_count": 175,
   "metadata": {},
   "outputs": [
    {
     "data": {
      "text/html": [
       "<div>\n",
       "<style>\n",
       "    .dataframe thead tr:only-child th {\n",
       "        text-align: right;\n",
       "    }\n",
       "\n",
       "    .dataframe thead th {\n",
       "        text-align: left;\n",
       "    }\n",
       "\n",
       "    .dataframe tbody tr th {\n",
       "        vertical-align: top;\n",
       "    }\n",
       "</style>\n",
       "<table border=\"1\" class=\"dataframe\">\n",
       "  <thead>\n",
       "    <tr style=\"text-align: right;\">\n",
       "      <th>WtFeel</th>\n",
       "      <th>AboutRt</th>\n",
       "      <th>OverWt</th>\n",
       "      <th>UnderWt</th>\n",
       "      <th>All</th>\n",
       "    </tr>\n",
       "    <tr>\n",
       "      <th>Gender</th>\n",
       "      <th></th>\n",
       "      <th></th>\n",
       "      <th></th>\n",
       "      <th></th>\n",
       "    </tr>\n",
       "  </thead>\n",
       "  <tbody>\n",
       "    <tr>\n",
       "      <th>Female</th>\n",
       "      <td>107.0</td>\n",
       "      <td>32.0</td>\n",
       "      <td>6.0</td>\n",
       "      <td>145.0</td>\n",
       "    </tr>\n",
       "    <tr>\n",
       "      <th>Male</th>\n",
       "      <td>56.0</td>\n",
       "      <td>15.0</td>\n",
       "      <td>13.0</td>\n",
       "      <td>84.0</td>\n",
       "    </tr>\n",
       "    <tr>\n",
       "      <th>All</th>\n",
       "      <td>163.0</td>\n",
       "      <td>47.0</td>\n",
       "      <td>19.0</td>\n",
       "      <td>229.0</td>\n",
       "    </tr>\n",
       "  </tbody>\n",
       "</table>\n",
       "</div>"
      ],
      "text/plain": [
       "WtFeel  AboutRt  OverWt  UnderWt    All\n",
       "Gender                                 \n",
       "Female    107.0    32.0      6.0  145.0\n",
       "Male       56.0    15.0     13.0   84.0\n",
       "All       163.0    47.0     19.0  229.0"
      ]
     },
     "execution_count": 175,
     "metadata": {},
     "output_type": "execute_result"
    }
   ],
   "source": [
    "gender_wtfeel = pd.pivot_table(data, \n",
    "               index = 'Gender', \n",
    "               columns = 'WtFeel', \n",
    "               values = 'Cheat', \n",
    "               aggfunc = 'count', \n",
    "               margins = True)\n",
    "\n",
    "gender_wtfeel"
   ]
  },
  {
   "cell_type": "code",
   "execution_count": 176,
   "metadata": {},
   "outputs": [
    {
     "data": {
      "text/html": [
       "<div>\n",
       "<style>\n",
       "    .dataframe thead tr:only-child th {\n",
       "        text-align: right;\n",
       "    }\n",
       "\n",
       "    .dataframe thead th {\n",
       "        text-align: left;\n",
       "    }\n",
       "\n",
       "    .dataframe tbody tr th {\n",
       "        vertical-align: top;\n",
       "    }\n",
       "</style>\n",
       "<table border=\"1\" class=\"dataframe\">\n",
       "  <thead>\n",
       "    <tr style=\"text-align: right;\">\n",
       "      <th>WtFeel</th>\n",
       "      <th>AboutRt_prop</th>\n",
       "      <th>OverWt_prop</th>\n",
       "      <th>UnderWt_prop</th>\n",
       "    </tr>\n",
       "    <tr>\n",
       "      <th>Gender</th>\n",
       "      <th></th>\n",
       "      <th></th>\n",
       "      <th></th>\n",
       "    </tr>\n",
       "  </thead>\n",
       "  <tbody>\n",
       "    <tr>\n",
       "      <th>Female</th>\n",
       "      <td>73.793103</td>\n",
       "      <td>22.068966</td>\n",
       "      <td>4.137931</td>\n",
       "    </tr>\n",
       "    <tr>\n",
       "      <th>Male</th>\n",
       "      <td>66.666667</td>\n",
       "      <td>17.857143</td>\n",
       "      <td>15.476190</td>\n",
       "    </tr>\n",
       "    <tr>\n",
       "      <th>All</th>\n",
       "      <td>71.179039</td>\n",
       "      <td>20.524017</td>\n",
       "      <td>8.296943</td>\n",
       "    </tr>\n",
       "  </tbody>\n",
       "</table>\n",
       "</div>"
      ],
      "text/plain": [
       "WtFeel  AboutRt_prop  OverWt_prop  UnderWt_prop\n",
       "Gender                                         \n",
       "Female     73.793103    22.068966      4.137931\n",
       "Male       66.666667    17.857143     15.476190\n",
       "All        71.179039    20.524017      8.296943"
      ]
     },
     "execution_count": 176,
     "metadata": {},
     "output_type": "execute_result"
    }
   ],
   "source": [
    "gender_wtfeel['AboutRt_prop'] = gender_wtfeel['AboutRt'] / gender_wtfeel['All'] * 100\n",
    "gender_wtfeel['OverWt_prop'] = gender_wtfeel['OverWt'] / gender_wtfeel['All'] * 100\n",
    "gender_wtfeel['UnderWt_prop'] = gender_wtfeel['UnderWt'] / gender_wtfeel['All'] * 100\n",
    "gender_wtfeel_prop = gender_wtfeel[['AboutRt_prop', 'OverWt_prop', 'UnderWt_prop']]\n",
    "gender_wtfeel_prop"
   ]
  },
  {
   "cell_type": "code",
   "execution_count": 184,
   "metadata": {},
   "outputs": [
    {
     "data": {
      "text/html": [
       "<div>\n",
       "<style>\n",
       "    .dataframe thead tr:only-child th {\n",
       "        text-align: right;\n",
       "    }\n",
       "\n",
       "    .dataframe thead th {\n",
       "        text-align: left;\n",
       "    }\n",
       "\n",
       "    .dataframe tbody tr th {\n",
       "        vertical-align: top;\n",
       "    }\n",
       "</style>\n",
       "<table border=\"1\" class=\"dataframe\">\n",
       "  <thead>\n",
       "    <tr style=\"text-align: right;\">\n",
       "      <th></th>\n",
       "      <th>Q1</th>\n",
       "      <th>mid</th>\n",
       "      <th>Q3</th>\n",
       "      <th>(amin, GPA)</th>\n",
       "      <th>(mean, GPA)</th>\n",
       "      <th>(amax, GPA)</th>\n",
       "    </tr>\n",
       "    <tr>\n",
       "      <th>Seat</th>\n",
       "      <th></th>\n",
       "      <th></th>\n",
       "      <th></th>\n",
       "      <th></th>\n",
       "      <th></th>\n",
       "      <th></th>\n",
       "    </tr>\n",
       "  </thead>\n",
       "  <tbody>\n",
       "    <tr>\n",
       "      <th>B</th>\n",
       "      <td>2.6775</td>\n",
       "      <td>3.00</td>\n",
       "      <td>3.2375</td>\n",
       "      <td>2.00</td>\n",
       "      <td>2.974348</td>\n",
       "      <td>4.06</td>\n",
       "    </tr>\n",
       "    <tr>\n",
       "      <th>F</th>\n",
       "      <td>3.0000</td>\n",
       "      <td>3.33</td>\n",
       "      <td>3.7000</td>\n",
       "      <td>1.92</td>\n",
       "      <td>3.251098</td>\n",
       "      <td>4.10</td>\n",
       "    </tr>\n",
       "    <tr>\n",
       "      <th>M</th>\n",
       "      <td>2.7800</td>\n",
       "      <td>3.00</td>\n",
       "      <td>3.5050</td>\n",
       "      <td>1.91</td>\n",
       "      <td>3.118931</td>\n",
       "      <td>4.38</td>\n",
       "    </tr>\n",
       "  </tbody>\n",
       "</table>\n",
       "</div>"
      ],
      "text/plain": [
       "          Q1   mid      Q3  (amin, GPA)  (mean, GPA)  (amax, GPA)\n",
       "Seat                                                             \n",
       "B     2.6775  3.00  3.2375         2.00     2.974348         4.06\n",
       "F     3.0000  3.33  3.7000         1.92     3.251098         4.10\n",
       "M     2.7800  3.00  3.5050         1.91     3.118931         4.38"
      ]
     },
     "execution_count": 184,
     "metadata": {},
     "output_type": "execute_result"
    }
   ],
   "source": [
    "data_float = data[data['GPA'] != '*']\n",
    "data_float_copy = data_float.copy()\n",
    "data_float_copy.loc[:, 'GPA'] = data_float.loc[:, 'GPA'].astype(float)\n",
    "q_1 = pd.pivot_table(data_float_copy, \n",
    "               index = 'Seat', \n",
    "               values = 'GPA', \n",
    "               aggfunc = lambda x: x.quantile(q = 0.25)).rename(columns = {'GPA':'Q1'})\n",
    "q_2 = pd.pivot_table(data_float_copy, \n",
    "               index = 'Seat', \n",
    "               values = 'GPA', \n",
    "               aggfunc = lambda x: x.quantile(q = 0.5)).rename(columns = {'GPA':'mid'})\n",
    "q_3 = pd.pivot_table(data_float_copy, \n",
    "               index = 'Seat', \n",
    "               values = 'GPA', \n",
    "               aggfunc = lambda x: x.quantile(q = 0.75)).rename(columns = {'GPA':'Q3'})\n",
    "others = pd.pivot_table(data_float_copy, \n",
    "               index = 'Seat', \n",
    "               values = 'GPA', \n",
    "               aggfunc = [np.min, np.mean, np.max])\n",
    "\n",
    "gpa_seat = pd.concat((q_1, q_2, q_3, others), axis = 1)\n",
    "gpa_seat"
   ]
  },
  {
   "cell_type": "code",
   "execution_count": null,
   "metadata": {},
   "outputs": [],
   "source": []
  },
  {
   "cell_type": "code",
   "execution_count": null,
   "metadata": {
    "collapsed": true
   },
   "outputs": [],
   "source": []
  }
 ],
 "metadata": {
  "kernelspec": {
   "display_name": "Python 3",
   "language": "python",
   "name": "python3"
  },
  "language_info": {
   "codemirror_mode": {
    "name": "ipython",
    "version": 3
   },
   "file_extension": ".py",
   "mimetype": "text/x-python",
   "name": "python",
   "nbconvert_exporter": "python",
   "pygments_lexer": "ipython3",
   "version": "3.6.1"
  }
 },
 "nbformat": 4,
 "nbformat_minor": 2
}
