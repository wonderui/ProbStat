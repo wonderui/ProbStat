{
 "cells": [
  {
   "cell_type": "markdown",
   "metadata": {},
   "source": [
    "### Exploring Two Variables: Explanatory and Response\n",
    "* the **explanatory variable** (also commonly referred to as the **independent variable**)-—the variable that claims to explain, predict or affect the response; and\n",
    "* the **response variable** (also commonly referred to as the **dependent variable**)-—the outcome of the study.\n",
    "Typically the explanatory (or independent) variable is denoted by X, while the response (or dependent) variable is denoted by Y.\n",
    "* * *"
   ]
  },
  {
   "cell_type": "markdown",
   "metadata": {},
   "source": [
    "### The Role-Type Classification\n",
    "If we further classify each of the two relevant variables according to **type** (categorical or quantitative), we get the following 4 possibilities for **\"role-type classification\"**\n",
    "![role-type classification](eda_examining_relationships_relationships_overview1.gif)"
   ]
  },
  {
   "cell_type": "code",
   "execution_count": null,
   "metadata": {
    "collapsed": true
   },
   "outputs": [],
   "source": []
  }
 ],
 "metadata": {
  "kernelspec": {
   "display_name": "Python 3",
   "language": "python",
   "name": "python3"
  },
  "language_info": {
   "codemirror_mode": {
    "name": "ipython",
    "version": 3
   },
   "file_extension": ".py",
   "mimetype": "text/x-python",
   "name": "python",
   "nbconvert_exporter": "python",
   "pygments_lexer": "ipython3",
   "version": "3.6.1"
  }
 },
 "nbformat": 4,
 "nbformat_minor": 2
}
