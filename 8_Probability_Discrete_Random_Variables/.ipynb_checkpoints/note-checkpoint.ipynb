{
 "cells": [
  {
   "cell_type": "markdown",
   "metadata": {},
   "source": [
    "### Random Variables Definition\n",
    "\n",
    "A **random variable** assigns a unique numerical value to the outcome of a random experiment.  \n",
    "\n",
    "随机变量是代表随机试验输出结果的一个数值。  \n",
    "\n",
    "例：  \n",
    "discrete random variables: 投2次硬币，用随机变量X代表出现反面的次数  \n",
    "continuous random variables: 随机选择一个轻量级拳手(体重在130~135磅之间)，用随机变量X代表他的体重  \n",
    "\n",
    "distinguish  \n",
    "discrete random variables are things we **count**, while continuous random variables are things we **measure**, or you can think about the term of **infinite**.\n",
    "\n",
    "* * *\n",
    "\n",
    "\n",
    "### Discrete Random Variables\n",
    "\n",
    "**P(X = x)**: the probability that the discrete random variable X gets the value x.  \n",
    "\n",
    "A list of possible values and probabilities is called the **probability distribution** of the random variable.  \n",
    "\n",
    "* * *\n",
    "\n",
    "A coin is tossed three times. Let the random variable X be the number of tails. The probability distribution of X is:\n",
    "\n",
    "![example](probability_random_variables_image008a.gif)  \n",
    "\n",
    "* * *\n",
    "\n",
    "probability histogram (area of the histogram is 1)\n",
    "![probability histogram](probability_random_variables_image010_combined.png)\n",
    "\n",
    "* * *\n",
    "\n",
    "### Mean and Variance of a Random variable\n",
    "\n",
    "![](mean_of_a_descrete_random_variable.png)\n",
    "\n",
    "Mean of a random variable is also unknown as the **expected value** of the random variable.\n",
    "\n",
    "* * *\n",
    "\n",
    "### Variance and Std definition\n",
    "\n",
    "![definition](variance_definition.png)"
   ]
  },
  {
   "cell_type": "markdown",
   "metadata": {
    "collapsed": true
   },
   "source": []
  }
 ],
 "metadata": {
  "kernelspec": {
   "display_name": "Python 3",
   "language": "python",
   "name": "python3"
  },
  "language_info": {
   "codemirror_mode": {
    "name": "ipython",
    "version": 3
   },
   "file_extension": ".py",
   "mimetype": "text/x-python",
   "name": "python",
   "nbconvert_exporter": "python",
   "pygments_lexer": "ipython3",
   "version": "3.6.1"
  }
 },
 "nbformat": 4,
 "nbformat_minor": 2
}
