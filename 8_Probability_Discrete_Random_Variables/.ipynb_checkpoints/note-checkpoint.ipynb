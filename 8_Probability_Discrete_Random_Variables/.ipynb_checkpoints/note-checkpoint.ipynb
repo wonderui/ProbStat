{
 "cells": [
  {
   "cell_type": "markdown",
   "metadata": {},
   "source": [
    "### Random Variables Definition\n",
    "\n",
    "A **random variable** assigns a unique numerical value to the outcome of a random experiment.  \n",
    "\n",
    "随机变量是代表随机试验输出结果的一个数值。  \n",
    "\n",
    "例：  \n",
    "discrete random variables: 投2次硬币，用随机变量X代表出现反面的次数  \n",
    "continuous random variables: 随机选择一个轻量级拳手(体重在130~135磅之间)，用随机变量X代表他的体重  \n",
    "\n",
    "distinguish  \n",
    "discrete random variables are things we **count**, while continuous random variables are things we **measure**, or you can think about the term of **infinite**.\n",
    "\n",
    "* * *\n"
   ]
  },
  {
   "cell_type": "code",
   "execution_count": null,
   "metadata": {
    "collapsed": true
   },
   "outputs": [],
   "source": []
  }
 ],
 "metadata": {
  "kernelspec": {
   "display_name": "Python 3",
   "language": "python",
   "name": "python3"
  },
  "language_info": {
   "codemirror_mode": {
    "name": "ipython",
    "version": 3
   },
   "file_extension": ".py",
   "mimetype": "text/x-python",
   "name": "python",
   "nbconvert_exporter": "python",
   "pygments_lexer": "ipython3",
   "version": "3.6.1"
  }
 },
 "nbformat": 4,
 "nbformat_minor": 2
}
