{
 "cells": [
  {
   "cell_type": "markdown",
   "metadata": {},
   "source": [
    "### Data and Variables\n",
    "\n",
    "![individuals and variables](eda_examining_distributions_variables.png)\n",
    "\n",
    "* **Categorical variables:** Gender, Smoking, Race\n",
    "* **Quantitative variables:** Age, Weight, Height\n",
    "\n",
    "* * *"
   ]
  },
  {
   "cell_type": "markdown",
   "metadata": {},
   "source": [
    "### Scales of Measurement\n",
    "The **nominal** scale of measurement is a qualitative measure that uses discrete categories to describe a characteristic of the research participants.These categories are not ordered or ranked in any way.  \n",
    ">Identifying participants as runners or non-runners.  \n",
    "\n",
    "An **ordinal** scale of measurement rank-orders participants on some scale or attribute, but the difference between numbers does not convey fixed or equal differences. The value of the variable is used to order participants according to the strength/presence of the attribute and not to calculate differences between participants.  \n",
    ">Car Condition (Excellent, Good, Fair, Poor)  \n",
    "\n",
    "The **interval** scale of measurement takes numerical form, and the distance between pairs of consecutive numbers is assumed to be equal. a zero on a measure of such variables does not mean the absence of the characteristic in the participant.  \n",
    ">Scores on the SAT Math Test  \n",
    "\n",
    "The **ratio** scale of measurement is similar to the interval scale. But for ratio measures, the zero is meaningful and tell us that the attribute is not present in the participant. \n",
    ">Length of room in inches\n",
    "\n",
    "* * *"
   ]
  },
  {
   "cell_type": "markdown",
   "metadata": {},
   "source": [
    "### Frequency Distributions\n",
    "\n",
    "| Category    | Count    | Percent           |\n",
    "|:-----------:|:--------:|:-----------------:|\n",
    "| About right | 855      | 855/1200=71.3%    |\n",
    "| Overweight  | 235      | 235/1200=19.6%    |\n",
    "| Underweight | 110      | 110/1200=9.2%     |\n",
    "| Total       | n=1200   | 100%              |\n",
    "\n",
    "* * *"
   ]
  },
  {
   "cell_type": "markdown",
   "metadata": {},
   "source": [
    "### Graphs - Histogram\n",
    "\n",
    "**another two graphs, stemplot and boxplot**\n",
    "\n",
    "#### Interpreting the histogram\n",
    "* **Shape**\n",
    "    1. Symmetry/Skewness - 对称/偏斜\n",
    "    2. Peakedness(modality) - 峰度\n",
    "* **Center**\n",
    "    * midpoint - 中位线\n",
    "* **Spread**\n",
    "    * variability or range of the data\n",
    "* **Outliers**\n",
    "![outliers](eda_examining_distributions_histogram7.gif)\n",
    "\n",
    "* * *"
   ]
  },
  {
   "cell_type": "markdown",
   "metadata": {
    "collapsed": true
   },
   "source": [
    "### Measures of Center\n",
    "\n",
    "#### Mode - 峰值\n",
    "The mode is the most commonly occurring value in a distribution. For simple datasets where the frequency of each value is available or easily determined, the value that occurs with the highest frequency is the mode.\n",
    "\n",
    "#### Mean - 均值\n",
    "The mean is the average of a set of observations (i.e., the sum of the observations divided by the number of observations). \n",
    "\n",
    "#### Median - 中位线\n",
    "The median M is the midpoint of the distribution. It is the number such that half of the observations fall above, and half fall below.\n",
    "\n",
    "* * *"
   ]
  },
  {
   "cell_type": "markdown",
   "metadata": {
    "collapsed": true
   },
   "source": [
    "### Measures of Spread\n",
    "\n",
    "**spread represent the spread of the value, not the distribution**\n",
    "\n",
    "#### Range - 范围\n",
    "The range covered by the data is the most intuitive measure of variability. The range is exactly the distance between the smallest data point (min) and the largest one (Max).\n",
    "\n",
    "#### Inter-quartile range (IQR) - 四分位距\n",
    "![IQR](eda_examining_distributions_spread6.gif 'IQR')\n",
    "\n",
    "![detect outliers by IQR](eda_examining_distributions_spread10.gif 'detect outliers by IQR')\n",
    "An observation is considered a suspected outlier if it is:\n",
    "* below Q1 - 1.5(IQR) or\n",
    "* above Q3 + 1.5(IQR)\n",
    "\n",
    "#### boxplot\n",
    "The combination of all five numbers (min, Q1, M, Q3, Max) is called the **five number summary**, and provides a quick numerical description of both the center and spread of a distribution.\n",
    "\n",
    "#### Standard deviation - 标准差"
   ]
  },
  {
   "cell_type": "code",
   "execution_count": null,
   "metadata": {
    "collapsed": true
   },
   "outputs": [],
   "source": []
  }
 ],
 "metadata": {
  "kernelspec": {
   "display_name": "Python 3",
   "language": "python",
   "name": "python3"
  },
  "language_info": {
   "codemirror_mode": {
    "name": "ipython",
    "version": 3
   },
   "file_extension": ".py",
   "mimetype": "text/x-python",
   "name": "python",
   "nbconvert_exporter": "python",
   "pygments_lexer": "ipython3",
   "version": "3.6.1"
  }
 },
 "nbformat": 4,
 "nbformat_minor": 2
}
